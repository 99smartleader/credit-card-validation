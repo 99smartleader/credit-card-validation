{
 "cells": [
  {
   "cell_type": "code",
   "execution_count": 3,
   "id": "57157f38",
   "metadata": {},
   "outputs": [],
   "source": [
    "import re"
   ]
  },
  {
   "cell_type": "code",
   "execution_count": 4,
   "id": "76fa8427",
   "metadata": {},
   "outputs": [],
   "source": [
    "def validate_credit_card_number(card_number):\n",
    "    # Remove all non-numeric characters from the card number\n",
    "    card_number = re.sub('[^0-9]', '', card_number)\n",
    "\n",
    "    # Check if the card number matches the format for each type of card\n",
    "    if re.match(r'^4[0-9]{12}(?:[0-9]{3})?$', card_number): # Visa\n",
    "        print(\"Visa\")\n",
    "        return True\n",
    "    elif re.match(r'^5[1-5][0-9]{14}$', card_number): # Mastercard\n",
    "        print(\"Mastercard\")\n",
    "        return True\n",
    "    elif re.match(r'^3[47][0-9]{13}$', card_number): # American Express\n",
    "        print(\"American Express\")\n",
    "        return True\n",
    "    elif re.match(r'^6(?:011|5[0-9]{2})[0-9]{12}$', card_number): # Discover\n",
    "        print(\"Discover\")\n",
    "        return True\n",
    "    elif re.match(r'^(?:2131|1800|35\\d{3})\\d{11}$', card_number): # JCB\n",
    "        print(\"JCB\")\n",
    "        return True\n",
    "    else:\n",
    "        return False"
   ]
  },
  {
   "cell_type": "code",
   "execution_count": 5,
   "id": "04189185",
   "metadata": {},
   "outputs": [
    {
     "name": "stdout",
     "output_type": "stream",
     "text": [
      "Invalid credit card number\n"
     ]
    }
   ],
   "source": [
    "card_number = '1234 5678 9012 3456' # Example credit card number\n",
    "if validate_credit_card_number(card_number):\n",
    "    print(\"Valid credit card number\")\n",
    "else:\n",
    "    print(\"Invalid credit card number\")"
   ]
  },
  {
   "cell_type": "code",
   "execution_count": null,
   "id": "2108fc4d",
   "metadata": {},
   "outputs": [],
   "source": []
  }
 ],
 "metadata": {
  "kernelspec": {
   "display_name": "Python 3 (ipykernel)",
   "language": "python",
   "name": "python3"
  },
  "language_info": {
   "codemirror_mode": {
    "name": "ipython",
    "version": 3
   },
   "file_extension": ".py",
   "mimetype": "text/x-python",
   "name": "python",
   "nbconvert_exporter": "python",
   "pygments_lexer": "ipython3",
   "version": "3.10.4"
  }
 },
 "nbformat": 4,
 "nbformat_minor": 5
}
